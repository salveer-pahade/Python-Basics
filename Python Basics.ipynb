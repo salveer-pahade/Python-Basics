{
  "nbformat": 4,
  "nbformat_minor": 0,
  "metadata": {
    "colab": {
      "provenance": []
    },
    "kernelspec": {
      "name": "python3",
      "display_name": "Python 3"
    },
    "language_info": {
      "name": "python"
    }
  },
  "cells": [
    {
      "cell_type": "code",
      "execution_count": null,
      "metadata": {
        "id": "WbgKXi4XSkvB"
      },
      "outputs": [],
      "source": []
    },
    {
      "cell_type": "markdown",
      "source": [
        "#Assignment : Python basic"
      ],
      "metadata": {
        "id": "e_QnqS_rSl5O"
      }
    },
    {
      "cell_type": "markdown",
      "source": [
        "1. What is Python, and why is it popular?\n",
        "  - Python is a high-level, interpreted, general-purpose programming language that is known for its simplicity, readability, and versatility. Python is popular because it’s beginner-friendly, powerful, and widely used across industries.\n",
        "\n",
        "2. What is an interpreter in Python?\n",
        " - An interpreter in Python is a program that reads and executes Python code line by line, instead of compiling the whole program into machine code.\n",
        "\n",
        "3. What are pre-defined keywords in Python?\n",
        "  - In Python, pre-defined keywords are special reserved words that have specific meanings and purposes in the language. You cannot use them as variable names, function names, or identifiers because they are part of Python’s syntax rules.\n",
        "\n",
        "4. Can keywords be used as variable names?\n",
        "  - No, keywords cannot be used as variable names in Python because they are reserved words that define the syntax and structure of the language. If we try to use a keyword as a variable name, Python will throw a SyntaxError.\n",
        "\n",
        "5. What is mutability in Python?\n",
        "  - In Python, mutability refers to whether an object's state or content can be changed after it has been created.\n",
        "\n",
        "6. Why are lists mutable, but tuples are immutable?\n",
        "  - Lists are mutable, while tuples are immutable, because this difference was intentionally designed into Python to serve distinct purposes for how data is handled. The core distinction lies in their implementation, memory allocation, and the set of operations available for each data structure.   \n",
        "\n",
        "7. What is the difference between “==” and “is” operators in Python?\n",
        "  - In Python, the == operator compares the values of two objects (equality), while the is operator compares their memory addresses to determine if they are the exact same object (identity).  \n",
        "\n",
        "8. What are logical operators in Python?\n",
        "  - Logical operators in Python are used to combine conditional statements and perform logical operations on Boolean values (True or False). They are also known as Boolean operators. Python provides three primary logical operators (and, or, and not).\n",
        "\n",
        "9. What is type casting in Python?\n",
        "  - In Python, type casting is the process of converting a variable or value from one data type to another.  \n",
        "\n",
        "10. What is the difference between implicit and explicit type casting?\n",
        "  - Implicit type casting (or automatic type conversion) happens automatically, while explicit type casting is a manual conversion performed by the programmer. The core difference lies in who initiates the conversion and the potential risk of data loss.  \n",
        "\n",
        "11. What is the purpose of conditional statements in Python?\n",
        "  - Conditional statements in Python serve the purpose of controlling the flow of a program's execution based on specific conditions. They allow a program to make decisions and execute different blocks of code depending on whether a given condition evaluates to True or False.  \n",
        "\n",
        "12. How does the elif statement work?\n",
        "  - The elif statement, short for \"else if,\" is a conditional statement used in Python to check for multiple conditions sequentially. It functions as an alternative condition to be evaluated if the preceding if statement's condition (and any prior elif conditions) are found to be false.  \n",
        "\n",
        "13. What is the difference between for and while loops?  \n",
        "  - In Python, the primary difference between for and while loops lies in how they are controlled: a for loop is used for definite iteration, while a while loop is for indefinite iteration.\n",
        "\n",
        " 14. Describe a scenario where a while loop is more suitable than a for loop?\n",
        "  - A while loop is more suitable than a for loop in scenarios where the number of iterations is not known in advance and depends on a specific condition being met.\n",
        "      \n",
        "      Scenario: User input validation ; Consider a program that requires a user to enter a valid email address. The program needs to repeatedly prompt the user for input until a correctly formatted email address is provided. The number of times the user might enter an incorrect email is unpredictable; it could be once, several times, or even never if the first attempt is correct.  \n",
        "      \n"
      ],
      "metadata": {
        "id": "9XpcD72xSsbE"
      }
    },
    {
      "cell_type": "markdown",
      "source": [],
      "metadata": {
        "id": "ngDyUPXWTTP6"
      }
    }
  ]
}