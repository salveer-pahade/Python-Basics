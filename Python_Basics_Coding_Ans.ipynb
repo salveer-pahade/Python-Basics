{
  "nbformat": 4,
  "nbformat_minor": 0,
  "metadata": {
    "colab": {
      "provenance": []
    },
    "kernelspec": {
      "name": "python3",
      "display_name": "Python 3"
    },
    "language_info": {
      "name": "python"
    }
  },
  "cells": [
    {
      "cell_type": "markdown",
      "source": [
        "#Python Basics - Practical Solutions"
      ],
      "metadata": {
        "id": "AzjPCl75-yUG"
      }
    },
    {
      "cell_type": "code",
      "source": [
        "# 1. Write a Python program to print \"Hello, World!\"\n",
        "print(\"Hello, World!\")"
      ],
      "metadata": {
        "colab": {
          "base_uri": "https://localhost:8080/"
        },
        "id": "Qsm_WVUp-uFe",
        "outputId": "3b43d86a-5062-4fae-e75b-9f19bbc6fea3"
      },
      "execution_count": null,
      "outputs": [
        {
          "output_type": "stream",
          "name": "stdout",
          "text": [
            "Hello, World!\n"
          ]
        }
      ]
    },
    {
      "cell_type": "code",
      "source": [
        "# 2. Write a Python progrma that displays your name and age.\n",
        "name = \"Salveer Singh Pahade\"\n",
        "age = 39\n",
        "print(\"My name is:\", name)\n",
        "print(\"My age is:\", age)"
      ],
      "metadata": {
        "colab": {
          "base_uri": "https://localhost:8080/"
        },
        "id": "SqeTsJZ__g3W",
        "outputId": "8e5ab402-8337-458b-ecfa-309e43b1747b"
      },
      "execution_count": null,
      "outputs": [
        {
          "output_type": "stream",
          "name": "stdout",
          "text": [
            "My name is: Salveer Singh Pahade\n",
            "My age is: 39\n"
          ]
        }
      ]
    },
    {
      "cell_type": "code",
      "source": [
        "# 3. Write code to print all the pre-defined keywords in Python using the keyword library.\n",
        "import keyword\n",
        "print(\"python keywords:\")\n",
        "for kw in keyword.kwlist:\n",
        "  print(kw)"
      ],
      "metadata": {
        "colab": {
          "base_uri": "https://localhost:8080/"
        },
        "id": "Jez-N5SyArik",
        "outputId": "a1273056-e7ac-4ba0-f4ca-6cc9f5ddb6ab"
      },
      "execution_count": null,
      "outputs": [
        {
          "output_type": "stream",
          "name": "stdout",
          "text": [
            "python keywords:\n",
            "False\n",
            "None\n",
            "True\n",
            "and\n",
            "as\n",
            "assert\n",
            "async\n",
            "await\n",
            "break\n",
            "class\n",
            "continue\n",
            "def\n",
            "del\n",
            "elif\n",
            "else\n",
            "except\n",
            "finally\n",
            "for\n",
            "from\n",
            "global\n",
            "if\n",
            "import\n",
            "in\n",
            "is\n",
            "lambda\n",
            "nonlocal\n",
            "not\n",
            "or\n",
            "pass\n",
            "raise\n",
            "return\n",
            "try\n",
            "while\n",
            "with\n",
            "yield\n"
          ]
        }
      ]
    },
    {
      "cell_type": "code",
      "source": [
        "# 4. Write a program that checks if a given word is a Python keyword.\n",
        "import keyword\n",
        "word = input(\"Enter a word: \")\n",
        "if keyword.iskeyword(word):\n",
        "  print(word, \"is a Python keyword.\")\n",
        "else:\n",
        "  print(word, \"is not a Python keyword.\")"
      ],
      "metadata": {
        "id": "N_TeE75jCR8i",
        "colab": {
          "base_uri": "https://localhost:8080/"
        },
        "outputId": "e15a4d3f-a111-4522-f4e7-11f4a7500292"
      },
      "execution_count": 2,
      "outputs": [
        {
          "output_type": "stream",
          "name": "stdout",
          "text": [
            "Enter a word: class\n",
            "class is a Python keyword.\n"
          ]
        }
      ]
    },
    {
      "cell_type": "code",
      "source": [
        "# 5. Create a list and tuple in Python, and demonstrate how attempting to change and element works differently for each.\n",
        "my_list = [1, 2, 3, 4, 5]\n",
        "my_list[0] = 10\n",
        "print(\"Modified list:\", my_list)\n",
        "\n",
        "my_tuple = (1, 2, 3, 4, 5)\n",
        "my_tuple[0] = 10\n",
        "print(\"Modified tuple:\", my_tuple)"
      ],
      "metadata": {
        "colab": {
          "base_uri": "https://localhost:8080/",
          "height": 211
        },
        "id": "swXd8UDvcFHL",
        "outputId": "cabe5a58-129f-497c-c1fa-559f02118bfc"
      },
      "execution_count": 7,
      "outputs": [
        {
          "output_type": "stream",
          "name": "stdout",
          "text": [
            "Modified list: [10, 2, 3, 4, 5]\n"
          ]
        },
        {
          "output_type": "error",
          "ename": "TypeError",
          "evalue": "'tuple' object does not support item assignment",
          "traceback": [
            "\u001b[0;31m---------------------------------------------------------------------------\u001b[0m",
            "\u001b[0;31mTypeError\u001b[0m                                 Traceback (most recent call last)",
            "\u001b[0;32m/tmp/ipython-input-3902635569.py\u001b[0m in \u001b[0;36m<cell line: 0>\u001b[0;34m()\u001b[0m\n\u001b[1;32m      5\u001b[0m \u001b[0;34m\u001b[0m\u001b[0m\n\u001b[1;32m      6\u001b[0m \u001b[0mmy_tuple\u001b[0m \u001b[0;34m=\u001b[0m \u001b[0;34m(\u001b[0m\u001b[0;36m1\u001b[0m\u001b[0;34m,\u001b[0m \u001b[0;36m2\u001b[0m\u001b[0;34m,\u001b[0m \u001b[0;36m3\u001b[0m\u001b[0;34m,\u001b[0m \u001b[0;36m4\u001b[0m\u001b[0;34m,\u001b[0m \u001b[0;36m5\u001b[0m\u001b[0;34m)\u001b[0m\u001b[0;34m\u001b[0m\u001b[0;34m\u001b[0m\u001b[0m\n\u001b[0;32m----> 7\u001b[0;31m \u001b[0mmy_tuple\u001b[0m\u001b[0;34m[\u001b[0m\u001b[0;36m0\u001b[0m\u001b[0;34m]\u001b[0m \u001b[0;34m=\u001b[0m \u001b[0;36m10\u001b[0m\u001b[0;34m\u001b[0m\u001b[0;34m\u001b[0m\u001b[0m\n\u001b[0m\u001b[1;32m      8\u001b[0m \u001b[0mprint\u001b[0m\u001b[0;34m(\u001b[0m\u001b[0;34m\"Modified tuple:\"\u001b[0m\u001b[0;34m,\u001b[0m \u001b[0mmy_tuple\u001b[0m\u001b[0;34m)\u001b[0m\u001b[0;34m\u001b[0m\u001b[0;34m\u001b[0m\u001b[0m\n",
            "\u001b[0;31mTypeError\u001b[0m: 'tuple' object does not support item assignment"
          ]
        }
      ]
    },
    {
      "cell_type": "code",
      "source": [
        "# 6. Write a function to demonstrate the behavior of mutable and immutable arguments.\n",
        "def demo():\n",
        "  a = 5\n",
        "  a = a+10\n",
        "  print((\"a=\" + str(a)))\n",
        "\n",
        "a = 20\n",
        "print(\"value of a=\" + str(a))\n",
        "demo()\n",
        "print(\"value of a =\" + str(a))"
      ],
      "metadata": {
        "colab": {
          "base_uri": "https://localhost:8080/"
        },
        "id": "4TucducCfW9M",
        "outputId": "cdd2ed2e-55b9-4f15-88ca-84c74996dee3"
      },
      "execution_count": 15,
      "outputs": [
        {
          "output_type": "stream",
          "name": "stdout",
          "text": [
            "value of a=20\n",
            "a=15\n",
            "value of a =20\n"
          ]
        }
      ]
    },
    {
      "cell_type": "code",
      "source": [
        "# 7. Write a program that performs basic arithmetic operations on two user-input numbers.\n",
        "num1 = input(\"Enter first number: \")\n",
        "num2 = input(\"Enter second number: \")\n",
        "sum = float(num1) + float(num2)\n",
        "print(f\"sum: {num1} + {num2} = {sum} \")"
      ],
      "metadata": {
        "colab": {
          "base_uri": "https://localhost:8080/"
        },
        "id": "V819nU1BkQJV",
        "outputId": "92c1a9e9-2cc7-47ea-de1c-81aafed9a400"
      },
      "execution_count": 17,
      "outputs": [
        {
          "output_type": "stream",
          "name": "stdout",
          "text": [
            "Enter first number: 27\n",
            "Enter second number: 2.7\n",
            "sum: 27 + 2.7 = 29.7 \n"
          ]
        }
      ]
    },
    {
      "cell_type": "code",
      "source": [
        "# 8. Write a Python program to demonstrate the use of logical operators.\n",
        "age = 20\n",
        "if age >= 18 and age <= 60:\n",
        "  print(\"You are eligible to work.\")\n",
        "else:\n",
        "  print(\"You are not eligible to work.\")"
      ],
      "metadata": {
        "colab": {
          "base_uri": "https://localhost:8080/"
        },
        "id": "iNOKlXM9mTb5",
        "outputId": "5569d59c-3e00-418a-b2e6-cc7414f03f9d"
      },
      "execution_count": 18,
      "outputs": [
        {
          "output_type": "stream",
          "name": "stdout",
          "text": [
            "You are eligible to work.\n"
          ]
        }
      ]
    },
    {
      "cell_type": "code",
      "source": [
        "# 9. Write a Python program to convert user input from string to integer, float, and boolean types.\n",
        "# string to integer\n",
        "a = \"2\"\n",
        "print(type (a))\n",
        "print(type (int (a)))"
      ],
      "metadata": {
        "colab": {
          "base_uri": "https://localhost:8080/"
        },
        "id": "846WJZpGnz4t",
        "outputId": "431c019c-e17b-4d35-9f70-3ea1c3a40d66"
      },
      "execution_count": 19,
      "outputs": [
        {
          "output_type": "stream",
          "name": "stdout",
          "text": [
            "<class 'str'>\n",
            "<class 'int'>\n"
          ]
        }
      ]
    },
    {
      "cell_type": "code",
      "source": [
        "# float to integer\n",
        "a = 2.3\n",
        "float_value = int(a)\n",
        "type(float_value)"
      ],
      "metadata": {
        "colab": {
          "base_uri": "https://localhost:8080/"
        },
        "id": "ST7BkZ7qrRSS",
        "outputId": "51c6a207-3d23-4357-d2b0-f7ad2548b94f"
      },
      "execution_count": 22,
      "outputs": [
        {
          "output_type": "execute_result",
          "data": {
            "text/plain": [
              "int"
            ]
          },
          "metadata": {},
          "execution_count": 22
        }
      ]
    },
    {
      "cell_type": "code",
      "source": [
        "#integer to float\n",
        "b = 3\n",
        "a = float(b)\n",
        "type(a)"
      ],
      "metadata": {
        "colab": {
          "base_uri": "https://localhost:8080/"
        },
        "id": "ck9tukJesgBq",
        "outputId": "8da74c2c-7701-42c0-b642-62969c8b339b"
      },
      "execution_count": 30,
      "outputs": [
        {
          "output_type": "execute_result",
          "data": {
            "text/plain": [
              "float"
            ]
          },
          "metadata": {},
          "execution_count": 30
        }
      ]
    },
    {
      "cell_type": "code",
      "source": [
        "#string to float\n",
        "a =\"2.3\"\n",
        "b = float(a)\n",
        "type(b)"
      ],
      "metadata": {
        "colab": {
          "base_uri": "https://localhost:8080/"
        },
        "id": "RWazhInetKYU",
        "outputId": "0e99c28d-e830-48ce-d012-bf163961e050"
      },
      "execution_count": 31,
      "outputs": [
        {
          "output_type": "execute_result",
          "data": {
            "text/plain": [
              "float"
            ]
          },
          "metadata": {},
          "execution_count": 31
        }
      ]
    },
    {
      "cell_type": "code",
      "source": [
        "# 10. Write code to demonstrate type casting with list elements.\n",
        "str_list = [\"10\", \"20\", \"30\", \"40\", \"50\"]\n",
        "print(\"Original list (string):\",str_list)\n",
        "\n",
        "#Convert all elements to integers\n",
        "int_list = [int(x) for x in str_list]\n",
        "print(\"List after casting to integers:\", int_list)\n",
        "\n",
        "#Convert all elements to floats\n",
        "float_list = [float(x) for x in str_list]\n",
        "print(\"List after casting to floats:\", float_list)\n",
        "\n",
        "#Convert numbers back to strings\n",
        "str_list = [str(x) for x in int_list]\n",
        "print(\"List after casting back to strings:\", str_list)\n",
        "\n",
        "# Convert integers to booleans (0 -> False, non-zero -> True)\n",
        "bool_list = [bool(x) for x in int_list]\n",
        "print(\"List after casting integers to booleans:\", bool_list)\n"
      ],
      "metadata": {
        "colab": {
          "base_uri": "https://localhost:8080/"
        },
        "id": "znQ_uAI9tZpG",
        "outputId": "a245d600-043a-4c35-eca4-913f2ad36f21"
      },
      "execution_count": 38,
      "outputs": [
        {
          "output_type": "stream",
          "name": "stdout",
          "text": [
            "Original list (string): ['10', '20', '30', '40', '50']\n",
            "List after casting to integers: [10, 20, 30, 40, 50]\n",
            "List after casting to floats: [10.0, 20.0, 30.0, 40.0, 50.0]\n",
            "List after casting back to strings: ['10', '20', '30', '40', '50']\n",
            "List after casting integers to booleans: [True, True, True, True, True]\n"
          ]
        }
      ]
    },
    {
      "cell_type": "code",
      "source": [
        "# 11. Write a program that checks if a number is positive, negative or zero.\n",
        "num = float(input(\"Enter a number: \"))\n",
        "if num > 0:\n",
        "  print(\"The number is positive.\")\n",
        "elif num < 0:\n",
        "  print(\"The number is negative.\")\n",
        "else:\n",
        "  print(\"The number is zero.\")\n"
      ],
      "metadata": {
        "colab": {
          "base_uri": "https://localhost:8080/"
        },
        "id": "yGmYlQpBYMcX",
        "outputId": "d742cf05-a4ee-43ea-ace7-682ec23756de"
      },
      "execution_count": 40,
      "outputs": [
        {
          "output_type": "stream",
          "name": "stdout",
          "text": [
            "Enter a number: -3\n",
            "The number is negative.\n"
          ]
        }
      ]
    },
    {
      "cell_type": "code",
      "source": [
        "# 12. Write a for loop to print numbers from 1 to 10.\n",
        "for i in range(1, 11):\n",
        "  print(i)"
      ],
      "metadata": {
        "colab": {
          "base_uri": "https://localhost:8080/"
        },
        "id": "4PedcouLZVwb",
        "outputId": "8cae4df7-da63-458b-df27-11c57ed3168f"
      },
      "execution_count": 45,
      "outputs": [
        {
          "output_type": "stream",
          "name": "stdout",
          "text": [
            "1\n",
            "2\n",
            "3\n",
            "4\n",
            "5\n",
            "6\n",
            "7\n",
            "8\n",
            "9\n",
            "10\n"
          ]
        }
      ]
    },
    {
      "cell_type": "code",
      "source": [
        "# 13. Write a Python program to find the sum of all even numbers from 1 and 50.\n",
        "total = 0\n",
        "for i in range(1, 51):\n",
        "  if i % 2 == 0:\n",
        "    total += i #\n",
        "print(\"The sum of all even numbers from 1 to 50 is:\", total) # Moved print outside the loop"
      ],
      "metadata": {
        "colab": {
          "base_uri": "https://localhost:8080/"
        },
        "id": "dbefnI0XZtrz",
        "outputId": "1d82e20b-1670-4a0f-dfd6-f78bb2353890"
      },
      "execution_count": 47,
      "outputs": [
        {
          "output_type": "stream",
          "name": "stdout",
          "text": [
            "The sum of all even numbers from 1 to 50 is: 650\n"
          ]
        }
      ]
    },
    {
      "cell_type": "code",
      "source": [
        "# 14. Write a program to reverse a string using a while loop.\n",
        "user_input = input(\"Enter a string to reverse: \")\n",
        "reversed_string = \"\"\n",
        "index = len(user_input) - 1\n",
        "while index >= 0:\n",
        "  reversed_string += user_input[index]\n",
        "  index -= 1\n",
        "print(\"Reversed string:\", reversed_string)"
      ],
      "metadata": {
        "colab": {
          "base_uri": "https://localhost:8080/"
        },
        "id": "fWbWrOWAbf1O",
        "outputId": "30026d71-2f60-4fa0-ffca-3964709c0b12"
      },
      "execution_count": 48,
      "outputs": [
        {
          "output_type": "stream",
          "name": "stdout",
          "text": [
            "Enter a string to reverse: Salveer\n",
            "Reversed string: reevlaS\n"
          ]
        }
      ]
    },
    {
      "cell_type": "code",
      "source": [
        "# 15. Write a Python progam to calculate the factorial of a number provided by the user suing a while loop.\n",
        "num = int(input(\"Enter a non negative integer:\"))\n",
        "if num < 0:\n",
        "  print(\"Factorial is not defined for negative numbers.\")\n",
        "else:\n",
        "  factorial = 1\n",
        "  while num > 0:\n",
        "    factorial *= num\n",
        "    num -= 1\n",
        "    print(f\"The facrotial of {num}is: {factorial}\")"
      ],
      "metadata": {
        "colab": {
          "base_uri": "https://localhost:8080/"
        },
        "id": "_aT_vBmudXpa",
        "outputId": "3707382c-10e9-4801-f10c-fc4036627ba8"
      },
      "execution_count": 52,
      "outputs": [
        {
          "output_type": "stream",
          "name": "stdout",
          "text": [
            "Enter a non negative integer:5\n",
            "The facrotial of 4is: 5\n",
            "The facrotial of 3is: 20\n",
            "The facrotial of 2is: 60\n",
            "The facrotial of 1is: 120\n",
            "The facrotial of 0is: 120\n"
          ]
        }
      ]
    }
  ]
}